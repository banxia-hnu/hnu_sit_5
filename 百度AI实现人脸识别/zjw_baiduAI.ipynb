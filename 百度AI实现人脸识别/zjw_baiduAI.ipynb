{
 "cells": [
  {
   "cell_type": "code",
   "execution_count": 4,
   "metadata": {},
   "outputs": [
    {
     "name": "stdout",
     "output_type": "stream",
     "text": [
      "b'{\"refresh_token\":\"25.7b1909df24c4a6c63af85108d749975c.315360000.1923993196.282335-22189693\",\"expires_in\":2592000,\"session_key\":\"9mzdCy0caZx0ISch6SN0k\\\\/WcUKWLKOBWHnCjdYQAF2eP0Z1D8IhVAE45E7fdGVh4BivRZq+fppXZc0IY7LeGXPC+o09L0A==\",\"access_token\":\"24.058b1d3b7bf675349d7cfe294834acfa.2592000.1611225196.282335-22189693\",\"scope\":\"public brain_all_scope vis-faceverify_faceverify_h5-face-liveness vis-faceverify_FACE_V3 vis-faceverify_idl_face_merge vis-faceverify_FACE_EFFECT wise_adapt lebo_resource_base lightservice_public hetu_basic lightcms_map_poi kaidian_kaidian ApsMisTest_Test\\\\u6743\\\\u9650 vis-classify_flower lpq_\\\\u5f00\\\\u653e cop_helloScope ApsMis_fangdi_permission smartapp_snsapi_base smartapp_mapp_dev_manage iop_autocar oauth_tp_app smartapp_smart_game_openapi oauth_sessionkey smartapp_swanid_verify smartapp_opensource_openapi smartapp_opensource_recapi fake_face_detect_\\\\u5f00\\\\u653eScope vis-ocr_\\\\u865a\\\\u62df\\\\u4eba\\\\u7269\\\\u52a9\\\\u7406 idl-video_\\\\u865a\\\\u62df\\\\u4eba\\\\u7269\\\\u52a9\\\\u7406 smartapp_component smartapp_search_plugin\",\"session_secret\":\"f97d9bc6d78d32207c3ff489acc7c1ea\"}\\n'\n"
     ]
    }
   ],
   "source": [
    "import urllib, urllib.request, sys\n",
    "import ssl\n",
    " \n",
    "# client_id 为官网获取的AK， client_secret 为官网获取的SK\n",
    "host = 'https://aip.baidubce.com/oauth/2.0/token?grant_type=client_credentials&client_id=b5raLzZDkeVNOSKLZC8QB0HC&client_secret=ALKoraVY4cYMTuPMFuxjKpvRzaeojlzt'\n",
    "request = urllib.request.Request(host)\n",
    "request.add_header('Content-Type', 'application/json; charset=UTF-8')\n",
    "response = urllib.request.urlopen(request)\n",
    "content = response.read()\n",
    "if (content):\n",
    "    print(content)"
   ]
  },
  {
   "cell_type": "code",
   "execution_count": 8,
   "metadata": {},
   "outputs": [
    {
     "name": "stdout",
     "output_type": "stream",
     "text": [
      "b'{\"error_code\":0,\"error_msg\":\"SUCCESS\",\"log_id\":575351018445,\"timestamp\":1608633617,\"cached\":0,\"result\":{\"face_num\":1,\"face_list\":[{\"face_token\":\"4c8a2ee6fef9212cb11e2543424a50ea\",\"location\":{\"left\":287.22,\"top\":512.56,\"width\":477,\"height\":470,\"rotation\":-1},\"face_probability\":1,\"angle\":{\"yaw\":-2.12,\"pitch\":5.67,\"roll\":-5.56},\"age\":22,\"beauty\":65.52,\"face_shape\":{\"type\":\"oval\",\"probability\":0.39},\"gender\":{\"type\":\"male\",\"probability\":1},\"glasses\":{\"type\":\"none\",\"probability\":1},\"landmark\":[{\"x\":423.37,\"y\":592.44},{\"x\":635.07,\"y\":587.76},{\"x\":531.89,\"y\":718.92},{\"x\":530.89,\"y\":833.07}],\"landmark72\":[{\"x\":288.97,\"y\":605.92},{\"x\":297.97,\"y\":680.89},{\"x\":312.11,\"y\":756.32},{\"x\":331.86,\"y\":831.79},{\"x\":382.74,\"y\":907.18},{\"x\":458.19,\"y\":962.52},{\"x\":534.14,\"y\":977.73},{\"x\":609.27,\"y\":957.58},{\"x\":682.86,\"y\":898.88},{\"x\":730,\"y\":821.58},{\"x\":747.16,\"y\":746.17},{\"x\":759.72,\"y\":670.56},{\"x\":766.38,\"y\":595.99},{\"x\":374.95,\"y\":599.05},{\"x\":396.9,\"y\":583.41},{\"x\":420.83,\"y\":579.16},{\"x\":444.15,\"y\":584.85},{\"x\":464.68,\"y\":606.43},{\"x\":442.75,\"y\":608.71},{\"x\":418.67,\"y\":610.64},{\"x\":394.36,\"y\":606.61},{\"x\":423.37,\"y\":592.44},{\"x\":336.98,\"y\":549.2},{\"x\":366.53,\"y\":515.52},{\"x\":404.03,\"y\":510.04},{\"x\":439.5,\"y\":514.46},{\"x\":473.25,\"y\":537.36},{\"x\":438.1,\"y\":538.13},{\"x\":403.53,\"y\":537.74},{\"x\":369.45,\"y\":541.14},{\"x\":593.6,\"y\":604.07},{\"x\":613.03,\"y\":581.24},{\"x\":635.98,\"y\":574.42},{\"x\":660.26,\"y\":577.46},{\"x\":681.93,\"y\":592.47},{\"x\":663.49,\"y\":601.35},{\"x\":639.44,\"y\":605.82},{\"x\":615.91,\"y\":605.54},{\"x\":635.07,\"y\":587.76},{\"x\":583.71,\"y\":535.93},{\"x\":616.36,\"y\":510.19},{\"x\":651.15,\"y\":504.4},{\"x\":688.48,\"y\":508.01},{\"x\":719.11,\"y\":539.42},{\"x\":686.91,\"y\":533.49},{\"x\":652.82,\"y\":532.14},{\"x\":618.78,\"y\":534.43},{\"x\":498.53,\"y\":608.89},{\"x\":490.51,\"y\":653.12},{\"x\":481.83,\"y\":698.23},{\"x\":466.85,\"y\":746.06},{\"x\":499.27,\"y\":746.69},{\"x\":564.18,\"y\":745.72},{\"x\":595,\"y\":744.39},{\"x\":579.68,\"y\":696.5},{\"x\":569.76,\"y\":652.09},{\"x\":560.37,\"y\":607.88},{\"x\":531.89,\"y\":718.92},{\"x\":450.83,\"y\":832.62},{\"x\":489.34,\"y\":814.12},{\"x\":530.92,\"y\":811.68},{\"x\":572.89,\"y\":811.92},{\"x\":609.75,\"y\":829.63},{\"x\":574.68,\"y\":853.26},{\"x\":531.2,\"y\":862.65},{\"x\":487.12,\"y\":854.99},{\"x\":491.44,\"y\":830.65},{\"x\":531.36,\"y\":831.87},{\"x\":570.77,\"y\":828.83},{\"x\":569.56,\"y\":832.66},{\"x\":530.65,\"y\":833.78},{\"x\":491.93,\"y\":834.25}]}]}}'\n"
     ]
    },
    {
     "data": {
      "text/plain": [
       "-1"
      ]
     },
     "execution_count": 8,
     "metadata": {},
     "output_type": "execute_result"
    }
   ],
   "source": [
    "# encoding:utf-8\n",
    "import urllib.request\n",
    "import cv2\n",
    "import ast\n",
    "import base64\n",
    "import urllib.parse\n",
    "from urllib.parse import urlencode\n",
    "\n",
    "'''\n",
    "人脸检测与属性分析\n",
    "'''\n",
    "#openCV导入图片\n",
    "filename = '1.jpg'\n",
    "img = cv2.imread(filename)\n",
    "#对图片进行base64编码\n",
    "f = open(filename,'rb')\n",
    "img_test = base64.b64encode(f.read())\n",
    "#请求地址\n",
    "request_url = \"https://aip.baidubce.com/rest/2.0/face/v3/detect\"\n",
    "#请求参数\n",
    "params={'image':''+str(img_test,'utf-8')+'','image_type':'BASE64','face_field':'age,beauty,faceshape,gender,glasses,landmark'}\n",
    "#对base64数据进行urlencode处理\n",
    "params=urlencode(params)\n",
    "#生成的access_token\n",
    "access_token = '24.058b1d3b7bf675349d7cfe294834acfa.2592000.1611225196.282335-22189693'\n",
    "request_url = request_url + \"?access_token=\" + access_token\n",
    "request = urllib.request.Request(url=request_url,data=params.encode(\"utf-8\"))\n",
    "request.add_header('Content-Type', 'application/json')\n",
    "response = urllib.request.urlopen(request)\n",
    "content = response.read()\n",
    "if content:\n",
    "    print(content)\n",
    "content = content.decode(\"utf-8\")\n",
    "content = ast.literal_eval(content)\n",
    "#描绘72个特征点部分\n",
    "test_pic=content['result']['face_list'][0]['landmark72']\n",
    "for x in test_pic:\n",
    "    cv2.circle(img, (int(x['x']),int(x['y'])), 1, (255, 255, 0), 0,8)\n",
    "#人脸框选部分\n",
    "left_top = (int(content['result']['face_list'][0]['location']['left']), int(content['result']['face_list'][0]['location']['top']))\n",
    "right_bottom = (int(left_top[0] + content['result']['face_list'][0]['location']['width']),int(left_top[1] + content['result']['face_list'][0]['location']['height']))\n",
    "cv2.rectangle(img, left_top, right_bottom, (0, 0, 255), 2)\n",
    "cv2.imshow('img', img)\n",
    "cv2.waitKey(0)\n",
    "\n"
   ]
  },
  {
   "cell_type": "code",
   "execution_count": null,
   "metadata": {},
   "outputs": [],
   "source": []
  }
 ],
 "metadata": {
  "kernelspec": {
   "display_name": "Python 3",
   "language": "python",
   "name": "python3"
  },
  "language_info": {
   "codemirror_mode": {
    "name": "ipython",
    "version": 3
   },
   "file_extension": ".py",
   "mimetype": "text/x-python",
   "name": "python",
   "nbconvert_exporter": "python",
   "pygments_lexer": "ipython3",
   "version": "3.7.6"
  }
 },
 "nbformat": 4,
 "nbformat_minor": 4
}
